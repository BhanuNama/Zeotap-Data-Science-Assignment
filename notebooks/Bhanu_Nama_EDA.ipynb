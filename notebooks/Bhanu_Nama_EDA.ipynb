{
 "cells": [
  {
   "cell_type": "code",
   "execution_count": 7,
   "id": "df7a4730-1cd9-4be8-9e7e-b522363abc0c",
   "metadata": {},
   "outputs": [],
   "source": [
    "import pandas as pd\n",
    "import matplotlib.pyplot as plt\n",
    "import seaborn as sns\n",
    "\n"
   ]
  },
  {
   "cell_type": "code",
   "execution_count": 8,
   "id": "9f8ee7f5-7237-487b-92b9-f0b140b2429d",
   "metadata": {},
   "outputs": [
    {
     "name": "stdout",
     "output_type": "stream",
     "text": [
      "  CustomerID        CustomerName         Region  SignupDate\n",
      "0      C0001    Lawrence Carroll  South America  2022-07-10\n",
      "1      C0002      Elizabeth Lutz           Asia  2022-02-13\n",
      "2      C0003      Michael Rivera  South America  2024-03-07\n",
      "3      C0004  Kathleen Rodriguez  South America  2022-10-09\n",
      "4      C0005         Laura Weber           Asia  2022-08-15\n",
      "  ProductID              ProductName     Category   Price\n",
      "0      P001     ActiveWear Biography        Books  169.30\n",
      "1      P002    ActiveWear Smartwatch  Electronics  346.30\n",
      "2      P003  ComfortLiving Biography        Books   44.12\n",
      "3      P004            BookWorld Rug   Home Decor   95.69\n",
      "4      P005          TechPro T-Shirt     Clothing  429.31\n",
      "  TransactionID CustomerID ProductID      TransactionDate  Quantity  \\\n",
      "0        T00001      C0199      P067  2024-08-25 12:38:23         1   \n",
      "1        T00112      C0146      P067  2024-05-27 22:23:54         1   \n",
      "2        T00166      C0127      P067  2024-04-25 07:38:55         1   \n",
      "3        T00272      C0087      P067  2024-03-26 22:55:37         2   \n",
      "4        T00363      C0070      P067  2024-03-21 15:10:10         3   \n",
      "\n",
      "   TotalValue   Price  \n",
      "0      300.68  300.68  \n",
      "1      300.68  300.68  \n",
      "2      300.68  300.68  \n",
      "3      601.36  300.68  \n",
      "4      902.04  300.68  \n"
     ]
    }
   ],
   "source": [
    "customers = pd.read_csv('../datasets/Customers.csv')\n",
    "products = pd.read_csv('../datasets/Products.csv')\n",
    "transactions = pd.read_csv('../datasets/Transactions.csv')\n",
    "\n",
    "\n",
    "# Display the first few rows\n",
    "print(customers.head())\n",
    "print(products.head())\n",
    "print(transactions.head())\n"
   ]
  },
  {
   "cell_type": "code",
   "execution_count": 9,
   "id": "1ab7348b-1830-4edf-936f-d629bc47e955",
   "metadata": {},
   "outputs": [
    {
     "name": "stdout",
     "output_type": "stream",
     "text": [
      "<class 'pandas.core.frame.DataFrame'>\n",
      "RangeIndex: 200 entries, 0 to 199\n",
      "Data columns (total 4 columns):\n",
      " #   Column        Non-Null Count  Dtype \n",
      "---  ------        --------------  ----- \n",
      " 0   CustomerID    200 non-null    object\n",
      " 1   CustomerName  200 non-null    object\n",
      " 2   Region        200 non-null    object\n",
      " 3   SignupDate    200 non-null    object\n",
      "dtypes: object(4)\n",
      "memory usage: 6.4+ KB\n",
      "None\n",
      "<class 'pandas.core.frame.DataFrame'>\n",
      "RangeIndex: 100 entries, 0 to 99\n",
      "Data columns (total 4 columns):\n",
      " #   Column       Non-Null Count  Dtype  \n",
      "---  ------       --------------  -----  \n",
      " 0   ProductID    100 non-null    object \n",
      " 1   ProductName  100 non-null    object \n",
      " 2   Category     100 non-null    object \n",
      " 3   Price        100 non-null    float64\n",
      "dtypes: float64(1), object(3)\n",
      "memory usage: 3.3+ KB\n",
      "None\n",
      "<class 'pandas.core.frame.DataFrame'>\n",
      "RangeIndex: 1000 entries, 0 to 999\n",
      "Data columns (total 7 columns):\n",
      " #   Column           Non-Null Count  Dtype  \n",
      "---  ------           --------------  -----  \n",
      " 0   TransactionID    1000 non-null   object \n",
      " 1   CustomerID       1000 non-null   object \n",
      " 2   ProductID        1000 non-null   object \n",
      " 3   TransactionDate  1000 non-null   object \n",
      " 4   Quantity         1000 non-null   int64  \n",
      " 5   TotalValue       1000 non-null   float64\n",
      " 6   Price            1000 non-null   float64\n",
      "dtypes: float64(2), int64(1), object(4)\n",
      "memory usage: 54.8+ KB\n",
      "None\n"
     ]
    }
   ],
   "source": [
    "print(customers.info())\n",
    "print(products.info())\n",
    "print(transactions.info())\n"
   ]
  },
  {
   "cell_type": "code",
   "execution_count": 10,
   "id": "d3859a15-037c-4aaa-8f6e-e7a1c1d574e4",
   "metadata": {},
   "outputs": [
    {
     "name": "stdout",
     "output_type": "stream",
     "text": [
      "  TransactionID CustomerID ProductID      TransactionDate  Quantity  \\\n",
      "0        T00001      C0199      P067  2024-08-25 12:38:23         1   \n",
      "1        T00112      C0146      P067  2024-05-27 22:23:54         1   \n",
      "2        T00166      C0127      P067  2024-04-25 07:38:55         1   \n",
      "3        T00272      C0087      P067  2024-03-26 22:55:37         2   \n",
      "4        T00363      C0070      P067  2024-03-21 15:10:10         3   \n",
      "\n",
      "   TotalValue  Price_x     CustomerName         Region  SignupDate  \\\n",
      "0      300.68   300.68   Andrea Jenkins         Europe  2022-12-03   \n",
      "1      300.68   300.68  Brittany Harvey           Asia  2024-09-04   \n",
      "2      300.68   300.68  Kathryn Stevens         Europe  2024-04-04   \n",
      "3      601.36   300.68  Travis Campbell  South America  2024-04-11   \n",
      "4      902.04   300.68    Timothy Perez         Europe  2022-03-15   \n",
      "\n",
      "                       ProductName     Category  Price_y  \n",
      "0  ComfortLiving Bluetooth Speaker  Electronics   300.68  \n",
      "1  ComfortLiving Bluetooth Speaker  Electronics   300.68  \n",
      "2  ComfortLiving Bluetooth Speaker  Electronics   300.68  \n",
      "3  ComfortLiving Bluetooth Speaker  Electronics   300.68  \n",
      "4  ComfortLiving Bluetooth Speaker  Electronics   300.68  \n"
     ]
    }
   ],
   "source": [
    "merged_data = transactions.merge(customers, on='CustomerID').merge(products, on='ProductID')\n",
    "print(merged_data.head())\n"
   ]
  },
  {
   "cell_type": "code",
   "execution_count": 11,
   "id": "0a8d4957-e4ab-4efe-9f65-1967e4dbeb3c",
   "metadata": {},
   "outputs": [
    {
     "data": {
      "image/png": "[encoded data removed]",
      "text/plain": [
       "<Figure size 640x480 with 1 Axes>"
      ]
     },
     "metadata": {},
     "output_type": "display_data"
    },
    {
     "data": {
      "image/png": "[encoded data removed]",
      "text/plain": [
       "<Figure size 640x480 with 1 Axes>"
      ]
     },
     "metadata": {},
     "output_type": "display_data"
    }
   ],
   "source": [
    "# Total revenue by category\n",
    "category_revenue = merged_data.groupby('Category')['TotalValue'].sum().reset_index()\n",
    "sns.barplot(data=category_revenue, x='Category', y='TotalValue')\n",
    "plt.title('Revenue by Product Category')\n",
    "plt.show()\n",
    "\n",
    "# Transactions over time\n",
    "merged_data['TransactionDate'] = pd.to_datetime(merged_data['TransactionDate'])\n",
    "merged_data['Month'] = merged_data['TransactionDate'].dt.to_period('M')\n",
    "monthly_revenue = merged_data.groupby('Month')['TotalValue'].sum().reset_index()\n",
    "plt.plot(monthly_revenue['Month'].astype(str), monthly_revenue['TotalValue'])\n",
    "plt.title('Monthly Revenue Trends')\n",
    "plt.xticks(rotation=45)\n",
    "plt.show()\n"
   ]
  },
  {
   "cell_type": "markdown",
   "id": "c3b18601-0c60-4dcb-8271-8c597c22ec49",
   "metadata": {},
   "source": [
    "INSIGHT-1 Customer Lifetime Value (CLV) Segmentation"
   ]
  },
  {
   "cell_type": "code",
   "execution_count": 12,
   "id": "97b31205-d169-4803-ab81-2999958c3e68",
   "metadata": {},
   "outputs": [
    {
     "name": "stdout",
     "output_type": "stream",
     "text": [
      "High-value customers:\n",
      " CustomerID\n",
      "C0004     5354.88\n",
      "C0012     5231.26\n",
      "C0013     6000.56\n",
      "C0018     4781.85\n",
      "C0021     5419.92\n",
      "C0023     5158.65\n",
      "C0028     6819.57\n",
      "C0041     6149.78\n",
      "C0045     6021.80\n",
      "C0046     5627.83\n",
      "C0051     5699.57\n",
      "C0053     5316.46\n",
      "C0054     8040.39\n",
      "C0059     7073.28\n",
      "C0065     7663.70\n",
      "C0068     5950.42\n",
      "C0075     5848.97\n",
      "C0082     7572.91\n",
      "C0087     6604.23\n",
      "C0093     5294.99\n",
      "C0096     6072.92\n",
      "C0099     6715.72\n",
      "C0100     5003.45\n",
      "C0101     5550.99\n",
      "C0102     6132.36\n",
      "C0104     6579.10\n",
      "C0105     4807.45\n",
      "C0108     4848.54\n",
      "C0109     5487.25\n",
      "C0113     4812.10\n",
      "C0114     5780.43\n",
      "C0122     5072.55\n",
      "C0138     5610.25\n",
      "C0141    10673.87\n",
      "C0143     6044.63\n",
      "C0145     5771.27\n",
      "C0148     5457.79\n",
      "C0155     5377.83\n",
      "C0156     7634.45\n",
      "C0162     4802.24\n",
      "C0163     5775.28\n",
      "C0165     6708.10\n",
      "C0168     5053.83\n",
      "C0170     4931.74\n",
      "C0171     5145.35\n",
      "C0173     5808.04\n",
      "C0175     6210.53\n",
      "C0182     4980.77\n",
      "C0188     7111.32\n",
      "C0196     4982.88\n",
      "Name: TotalValue, dtype: float64\n",
      "\n",
      "Low-value customers:\n",
      " CustomerID\n",
      "C0002    1862.74\n",
      "C0005    2034.24\n",
      "C0009     896.50\n",
      "C0010    1717.55\n",
      "C0014     318.66\n",
      "C0015    1157.48\n",
      "C0020     922.41\n",
      "C0025    1589.81\n",
      "C0029    1785.87\n",
      "C0031    2005.38\n",
      "C0032     673.00\n",
      "C0033     132.64\n",
      "C0036    1877.96\n",
      "C0043    1131.32\n",
      "C0058     396.34\n",
      "C0060      82.36\n",
      "C0061    2138.26\n",
      "C0062    1639.54\n",
      "C0063    1378.17\n",
      "C0071    1400.83\n",
      "C0073    2060.54\n",
      "C0077     837.30\n",
      "C0078     995.52\n",
      "C0080    1007.52\n",
      "C0083     642.80\n",
      "C0088    2135.38\n",
      "C0094    1166.97\n",
      "C0095    1284.27\n",
      "C0097     137.54\n",
      "C0110     942.32\n",
      "C0111    1973.02\n",
      "C0112    1959.51\n",
      "C0119    1191.61\n",
      "C0121     974.52\n",
      "C0123    1400.06\n",
      "C0128     773.19\n",
      "C0130     601.36\n",
      "C0131    1943.82\n",
      "C0132    1851.26\n",
      "C0140    1888.14\n",
      "C0144    1304.68\n",
      "C0150     580.34\n",
      "C0151     223.96\n",
      "C0157    1876.10\n",
      "C0159    2072.41\n",
      "C0186    1761.64\n",
      "C0192    2072.72\n",
      "C0197    1928.65\n",
      "C0198     931.83\n",
      "C0199    1979.28\n",
      "Name: TotalValue, dtype: float64\n"
     ]
    }
   ],
   "source": [
    "transactions['TransactionDate'] = pd.to_datetime(transactions['TransactionDate'])\n",
    "\n",
    "\n",
    "customer_lifetime_value = transactions.groupby('CustomerID')['TotalValue'].sum()\n",
    "\n",
    "# Identify high-value customers (Top 25% by spending)\n",
    "high_value_customers = customer_lifetime_value[customer_lifetime_value > customer_lifetime_value.quantile(0.75)]\n",
    "\n",
    "# Identify low-value customers (Bottom 25% by spending)\n",
    "low_value_customers = customer_lifetime_value[customer_lifetime_value < customer_lifetime_value.quantile(0.25)]\n",
    "\n",
    "print(\"High-value customers:\\n\", high_value_customers)\n",
    "print(\"\\nLow-value customers:\\n\", low_value_customers)"
   ]
  },
  {
   "cell_type": "markdown",
   "id": "02df1ecd-596c-4db6-93f0-e44042e3e82a",
   "metadata": {},
   "source": [
    "INSIGHT-2 (Product Revenue and Profitability Analysis)"
   ]
  },
  {
   "cell_type": "code",
   "execution_count": 22,
   "id": "46185d13-2d3e-4eca-86fa-744590ca8fc9",
   "metadata": {},
   "outputs": [
    {
     "name": "stdout",
     "output_type": "stream",
     "text": [
      "Revenue per product category: Category\n",
      "Books          192147.47\n",
      "Clothing       166170.66\n",
      "Electronics    180783.50\n",
      "Home Decor     150893.93\n",
      "Name: TotalValue, dtype: float64\n"
     ]
    }
   ],
   "source": [
    "product_revenue = transactions.merge(products, on='ProductID').groupby('Category')['TotalValue'].sum()\n",
    "print(f\"Revenue per product category: {product_revenue}\")\n"
   ]
  },
  {
   "cell_type": "markdown",
   "id": "42296e44-b640-457a-8c09-19ffdafca34a",
   "metadata": {},
   "source": [
    "INSIGHT-3 (Regional Purchase Patterns and Targeted Marketing)"
   ]
  },
  {
   "cell_type": "code",
   "execution_count": 24,
   "id": "7978a4a4-0286-4b63-9b10-2e8935a7941b",
   "metadata": {},
   "outputs": [
    {
     "name": "stdout",
     "output_type": "stream",
     "text": [
      "Revenue by region and category:\n",
      "Region         Category   \n",
      "Asia           Books          33119.03\n",
      "               Clothing       49353.09\n",
      "               Electronics    35658.15\n",
      "               Home Decor     33944.70\n",
      "Europe         Books          47464.42\n",
      "               Clothing       36335.59\n",
      "               Electronics    41562.60\n",
      "               Home Decor     40892.02\n",
      "North America  Books          41811.99\n",
      "               Clothing       38038.49\n",
      "               Electronics    44716.43\n",
      "               Home Decor     27746.49\n",
      "South America  Books          69752.03\n",
      "               Clothing       42443.49\n",
      "               Electronics    58846.32\n",
      "               Home Decor     48310.72\n",
      "Name: TotalValue, dtype: float64\n"
     ]
    }
   ],
   "source": [
    "transactions_with_products = transactions.merge(products, on='ProductID', how='left')\n",
    "\n",
    "# Merge the result with the customers data to get the region information\n",
    "transactions_with_full_info = transactions_with_products.merge(customers, on='CustomerID', how='left')\n",
    "\n",
    "# Now you can group by region and category, and sum the total value\n",
    "region_product_sales = transactions_with_full_info.groupby(['Region', 'Category'])['TotalValue'].sum()\n",
    "\n",
    "# Print the result\n",
    "print(f\"Revenue by region and category:\\n{region_product_sales}\")"
   ]
  },
  {
   "cell_type": "markdown",
   "id": "b6820f1c-025a-4cd9-a618-c537acfe8523",
   "metadata": {},
   "source": [
    "INSIGHT-4 (Customer Acquisition and Retention Trends)"
   ]
  },
  {
   "cell_type": "code",
   "execution_count": 25,
   "id": "0d8fdff9-c888-4fa1-986d-e7a468f9dcbf",
   "metadata": {},
   "outputs": [
    {
     "name": "stdout",
     "output_type": "stream",
     "text": [
      "New customers in 2023: 136\n"
     ]
    }
   ],
   "source": [
    "customers['SignupDate'] = pd.to_datetime(customers['SignupDate'])\n",
    "new_customers = customers[customers['SignupDate'] >= pd.to_datetime('2023-01-01')]\n",
    "print(f\"New customers in 2023: {new_customers.shape[0]}\")\n"
   ]
  },
  {
   "cell_type": "markdown",
   "id": "8be56f91-7385-4045-9917-fca319d1cb24",
   "metadata": {},
   "source": [
    "INSIGHT-5 (Transaction Frequency and Value Correlation)"
   ]
  },
  {
   "cell_type": "code",
   "execution_count": 26,
   "id": "4668e732-0b5b-49e5-a73c-e105e18ad8bf",
   "metadata": {},
   "outputs": [
    {
     "name": "stdout",
     "output_type": "stream",
     "text": [
      "Correlation between transaction frequency and value: 0.023321887015262735\n"
     ]
    }
   ],
   "source": [
    "transaction_frequency = transactions.groupby('CustomerID').size()\n",
    "avg_transaction_value = transactions.groupby('CustomerID')['TotalValue'].mean()\n",
    "freq_value_corr = transaction_frequency.corr(avg_transaction_value)\n",
    "print(f\"Correlation between transaction frequency and value: {freq_value_corr}\")\n"
   ]
  },
  {
   "cell_type": "markdown",
   "id": "79006c7d-e463-498f-80f1-51af7638309a",
   "metadata": {},
   "source": [
    "INSIGHT-6"
   ]
  },
  {
   "cell_type": "code",
   "execution_count": 27,
   "id": "6ff35380-082c-4e41-a9fd-cdc4874ded91",
   "metadata": {},
   "outputs": [
    {
     "name": "stdout",
     "output_type": "stream",
     "text": [
      "Monthly sales trends: TransactionDate\n",
      "2023-12     3769.52\n",
      "2024-01    66376.39\n",
      "2024-02    51459.27\n",
      "2024-03    47828.73\n",
      "2024-04    57519.06\n",
      "2024-05    64527.74\n",
      "2024-06    48771.18\n",
      "2024-07    71366.39\n",
      "2024-08    63436.74\n",
      "2024-09    70603.75\n",
      "2024-10    47063.22\n",
      "2024-11    38224.37\n",
      "2024-12    59049.20\n",
      "Freq: M, Name: TotalValue, dtype: float64\n"
     ]
    }
   ],
   "source": [
    "transactions['TransactionDate'] = pd.to_datetime(transactions['TransactionDate'])\n",
    "sales_by_month = transactions.groupby(transactions['TransactionDate'].dt.to_period('M'))['TotalValue'].sum()\n",
    "print(f\"Monthly sales trends: {sales_by_month}\")\n"
   ]
  },
  {
   "cell_type": "markdown",
   "id": "3f6dec07-05cd-48ba-b98d-c1d159e30842",
   "metadata": {},
   "source": [
    "INSIGHT-7 (Most Popular Product Categories)"
   ]
  },
  {
   "cell_type": "code",
   "execution_count": 36,
   "id": "93ea72ba-7727-4938-8960-b4e6995cb6bf",
   "metadata": {},
   "outputs": [
    {
     "name": "stdout",
     "output_type": "stream",
     "text": [
      "Most popular product categories by sales: Category\n",
      "Books          192147.47\n",
      "Electronics    180783.50\n",
      "Clothing       166170.66\n",
      "Home Decor     150893.93\n",
      "Name: TotalValue, dtype: float64\n"
     ]
    }
   ],
   "source": [
    "# Grouping by product category and calculating total sales\n",
    "category_sales = transactions.merge(products, on='ProductID').groupby('Category')['TotalValue'].sum().sort_values(ascending=False)\n",
    "print(f\"Most popular product categories by sales: {category_sales}\")\n"
   ]
  },
  {
   "cell_type": "markdown",
   "id": "2bb4f928-ab18-4371-9dc7-0ca3aec28ad1",
   "metadata": {},
   "source": [
    "INSIGHT-8 (Customer Acquisition Trend)"
   ]
  },
  {
   "cell_type": "code",
   "execution_count": 37,
   "id": "f85b0f45-61ca-4f19-84a8-49dbfa4773d1",
   "metadata": {},
   "outputs": [
    {
     "name": "stdout",
     "output_type": "stream",
     "text": [
      "Customer acquisition trend over time: YearMonth\n",
      "2022-01     1\n",
      "2022-02     7\n",
      "2022-03     8\n",
      "2022-04     8\n",
      "2022-05     8\n",
      "2022-06     5\n",
      "2022-07     4\n",
      "2022-08     4\n",
      "2022-09     6\n",
      "2022-10     3\n",
      "2022-11     3\n",
      "2022-12     7\n",
      "2023-01     5\n",
      "2023-02     6\n",
      "2023-03     8\n",
      "2023-04     6\n",
      "2023-05     3\n",
      "2023-06     3\n",
      "2023-07     3\n",
      "2023-08     2\n",
      "2023-09     4\n",
      "2023-10     7\n",
      "2023-11     5\n",
      "2023-12     5\n",
      "2024-01     9\n",
      "2024-02     8\n",
      "2024-03     4\n",
      "2024-04    10\n",
      "2024-05     6\n",
      "2024-06     4\n",
      "2024-07     6\n",
      "2024-08     4\n",
      "2024-09    11\n",
      "2024-10     5\n",
      "2024-11    11\n",
      "2024-12     1\n",
      "Freq: M, dtype: int64\n"
     ]
    }
   ],
   "source": [
    "# Extracting the year and month from signup date\n",
    "customers['SignupDate'] = pd.to_datetime(customers['SignupDate'])\n",
    "customers['YearMonth'] = customers['SignupDate'].dt.to_period('M')\n",
    "\n",
    "# Grouping by year and month to get the number of customers signed up each month\n",
    "customer_acquisition_trend = customers.groupby('YearMonth').size()\n",
    "print(f\"Customer acquisition trend over time: {customer_acquisition_trend}\")\n"
   ]
  },
  {
   "cell_type": "markdown",
   "id": "8af83f11-f3e7-4d93-abe5-a405b4d637a0",
   "metadata": {},
   "source": [
    "INSIGHT-9 (High-Value Customers)"
   ]
  },
  {
   "cell_type": "code",
   "execution_count": 39,
   "id": "54fe254c-fd85-44ff-8785-e720fe1f42f3",
   "metadata": {},
   "outputs": [
    {
     "name": "stdout",
     "output_type": "stream",
     "text": [
      "Top 10 high-value customers: CustomerID\n",
      "C0141    10673.87\n",
      "C0054     8040.39\n",
      "C0065     7663.70\n",
      "C0156     7634.45\n",
      "C0082     7572.91\n",
      "C0188     7111.32\n",
      "C0059     7073.28\n",
      "C0028     6819.57\n",
      "C0099     6715.72\n",
      "C0165     6708.10\n",
      "Name: TotalValue, dtype: float64\n"
     ]
    }
   ],
   "source": [
    "# Grouping by customer and calculating total spending\n",
    "customer_spending = transactions.groupby('CustomerID')['TotalValue'].sum().sort_values(ascending=False)\n",
    "high_value_customers = customer_spending.head(10)\n",
    "print(f\"Top 10 high-value customers: {high_value_customers}\")\n"
   ]
  },
  {
   "cell_type": "code",
   "execution_count": null,
   "id": "5e78461e-46e8-4ae5-8942-fda959e8dafc",
   "metadata": {},
   "outputs": [],
   "source": []
  }
 ],
 "metadata": {
  "kernelspec": {
   "display_name": "Python 3 (ipykernel)",
   "language": "python",
   "name": "python3"
  },
  "language_info": {
   "codemirror_mode": {
    "name": "ipython",
    "version": 3
   },
   "file_extension": ".py",
   "mimetype": "text/x-python",
   "name": "python",
   "nbconvert_exporter": "python",
   "pygments_lexer": "ipython3",
   "version": "3.13.1"
  }
 },
 "nbformat": 4,
 "nbformat_minor": 5
}
