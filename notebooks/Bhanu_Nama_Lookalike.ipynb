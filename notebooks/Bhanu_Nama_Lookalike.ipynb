{
 "cells": [
  {
   "cell_type": "code",
   "execution_count": 3,
   "id": "74e9a12e-b252-4b4f-a082-e34f69f057e9",
   "metadata": {},
   "outputs": [],
   "source": [
    "import pandas as pd\n",
    "customers = pd.read_csv('../datasets/Customers.csv')\n",
    "products = pd.read_csv('../datasets/Products.csv')\n",
    "transactions = pd.read_csv('../datasets/Transactions.csv')"
   ]
  },
  {
   "cell_type": "code",
   "execution_count": 4,
   "id": "147df02d-a348-4d81-873e-1c394dce6a44",
   "metadata": {},
   "outputs": [
    {
     "data": {
      "text/html": [
       "<div>\n",
       "<style scoped>\n",
       "    .dataframe tbody tr th:only-of-type {\n",
       "        vertical-align: middle;\n",
       "    }\n",
       "\n",
       "    .dataframe tbody tr th {\n",
       "        vertical-align: top;\n",
       "    }\n",
       "\n",
       "    .dataframe thead th {\n",
       "        text-align: right;\n",
       "    }\n",
       "</style>\n",
       "<table border=\"1\" class=\"dataframe\">\n",
       "  <thead>\n",
       "    <tr style=\"text-align: right;\">\n",
       "      <th></th>\n",
       "      <th>ProductID</th>\n",
       "      <th>ProductName</th>\n",
       "      <th>Category</th>\n",
       "      <th>Price</th>\n",
       "    </tr>\n",
       "  </thead>\n",
       "  <tbody>\n",
       "    <tr>\n",
       "      <th>0</th>\n",
       "      <td>P001</td>\n",
       "      <td>ActiveWear Biography</td>\n",
       "      <td>Books</td>\n",
       "      <td>169.30</td>\n",
       "    </tr>\n",
       "    <tr>\n",
       "      <th>1</th>\n",
       "      <td>P002</td>\n",
       "      <td>ActiveWear Smartwatch</td>\n",
       "      <td>Electronics</td>\n",
       "      <td>346.30</td>\n",
       "    </tr>\n",
       "    <tr>\n",
       "      <th>2</th>\n",
       "      <td>P003</td>\n",
       "      <td>ComfortLiving Biography</td>\n",
       "      <td>Books</td>\n",
       "      <td>44.12</td>\n",
       "    </tr>\n",
       "    <tr>\n",
       "      <th>3</th>\n",
       "      <td>P004</td>\n",
       "      <td>BookWorld Rug</td>\n",
       "      <td>Home Decor</td>\n",
       "      <td>95.69</td>\n",
       "    </tr>\n",
       "    <tr>\n",
       "      <th>4</th>\n",
       "      <td>P005</td>\n",
       "      <td>TechPro T-Shirt</td>\n",
       "      <td>Clothing</td>\n",
       "      <td>429.31</td>\n",
       "    </tr>\n",
       "  </tbody>\n",
       "</table>\n",
       "</div>"
      ],
      "text/plain": [
       "  ProductID              ProductName     Category   Price\n",
       "0      P001     ActiveWear Biography        Books  169.30\n",
       "1      P002    ActiveWear Smartwatch  Electronics  346.30\n",
       "2      P003  ComfortLiving Biography        Books   44.12\n",
       "3      P004            BookWorld Rug   Home Decor   95.69\n",
       "4      P005          TechPro T-Shirt     Clothing  429.31"
      ]
     },
     "execution_count": 4,
     "metadata": {},
     "output_type": "execute_result"
    }
   ],
   "source": [
    "customers.head()\n",
    "transactions.head()\n",
    "products.head()\n"
   ]
  },
  {
   "cell_type": "code",
   "execution_count": 5,
   "id": "c780d286-708b-4c06-bee7-7521f58bbb7d",
   "metadata": {},
   "outputs": [],
   "source": [
    "data = transactions.merge(customers, on='CustomerID')\n"
   ]
  },
  {
   "cell_type": "code",
   "execution_count": 6,
   "id": "ca73e84c-08dc-4d06-9577-8133c36fb647",
   "metadata": {},
   "outputs": [],
   "source": [
    "customer_spending = data.groupby('CustomerID').agg(\n",
    "    total_spend=('TotalValue', 'sum'),\n",
    "    purchase_count=('TransactionID', 'count')\n",
    ").reset_index()\n"
   ]
  },
  {
   "cell_type": "code",
   "execution_count": 7,
   "id": "696e0d91-3e72-4edf-9489-ae4d40da6aeb",
   "metadata": {},
   "outputs": [],
   "source": [
    "customer_profile = customers[['CustomerID', 'Region']]\n",
    "data_combined = customer_spending.merge(customer_profile, on='CustomerID')\n"
   ]
  },
  {
   "cell_type": "code",
   "execution_count": 8,
   "id": "067e0c09-32e8-4315-a7de-6c21a1bd0ce0",
   "metadata": {},
   "outputs": [],
   "source": [
    "data_combined = pd.get_dummies(data_combined, columns=['Region'], drop_first=True)\n"
   ]
  },
  {
   "cell_type": "code",
   "execution_count": 9,
   "id": "443917f2-5a75-4548-b3d0-8dd21deee2b4",
   "metadata": {},
   "outputs": [],
   "source": [
    "from sklearn.preprocessing import StandardScaler\n",
    "\n",
    "scaler = StandardScaler()\n",
    "data_combined[['total_spend', 'purchase_count']] = scaler.fit_transform(data_combined[['total_spend', 'purchase_count']])\n"
   ]
  },
  {
   "cell_type": "code",
   "execution_count": 10,
   "id": "4bba8740-f911-4cc7-96b2-c8e82fcde740",
   "metadata": {},
   "outputs": [],
   "source": [
    "from sklearn.metrics.pairwise import cosine_similarity\n",
    "\n",
    "# Compute cosine similarity between customers\n",
    "similarity_matrix = cosine_similarity(data_combined[['total_spend', 'purchase_count'] + [col for col in data_combined.columns if col.startswith('Region_')]])\n"
   ]
  },
  {
   "cell_type": "code",
   "execution_count": 11,
   "id": "fc0c743d-8ba6-41c5-8011-01588c505a14",
   "metadata": {},
   "outputs": [],
   "source": [
    "import numpy as np\n",
    "\n",
    "lookalike_recommendations = {}\n",
    "\n",
    "for customer_id in customers['CustomerID'][:20]:  # For first 20 customers\n",
    "    # Get the index of the current customer\n",
    "    customer_index = data_combined[data_combined['CustomerID'] == customer_id].index[0]\n",
    "    \n",
    "    # Calculate similarity scores for the current customer\n",
    "    similarity_scores = similarity_matrix[customer_index]\n",
    "    \n",
    "    # Exclude the current customer from their own similarity score\n",
    "    similarity_scores[customer_index] = -1\n",
    "    \n",
    "    # Get the top 3 similar customers (based on similarity score)\n",
    "    top_3_similar_customers = np.argsort(similarity_scores)[-3:]\n",
    "    \n",
    "    # Get the customer IDs and similarity scores\n",
    "    similar_customers = [(data_combined.iloc[i]['CustomerID'], similarity_scores[i]) for i in top_3_similar_customers]\n",
    "    \n",
    "    # Store in the dictionary\n",
    "    lookalike_recommendations[customer_id] = similar_customers\n"
   ]
  },
  {
   "cell_type": "code",
   "execution_count": 12,
   "id": "246dae5f-b78f-4f88-805a-bb826e247ff8",
   "metadata": {},
   "outputs": [
    {
     "name": "stdout",
     "output_type": "stream",
     "text": [
      "Lookalike recommendations saved to 'Lookalike.csv'.\n"
     ]
    }
   ],
   "source": [
    "lookalike_df = []\n",
    "for cust_id, recommendations in lookalike_recommendations.items():\n",
    "    for rec in recommendations:\n",
    "        lookalike_df.append([cust_id, rec[0], rec[1]])\n",
    "\n",
    "lookalike_df = pd.DataFrame(lookalike_df, columns=['CustomerID', 'LookalikeCustomerID', 'SimilarityScore'])\n",
    "lookalike_df.to_csv('Lookalike.csv', index=False)\n",
    "\n",
    "print(\"Lookalike recommendations saved to 'Lookalike.csv'.\")\n"
   ]
  },
  {
   "cell_type": "code",
   "execution_count": null,
   "id": "bbe7646e-8137-4e41-8195-70ad55f64e04",
   "metadata": {},
   "outputs": [],
   "source": []
  }
 ],
 "metadata": {
  "kernelspec": {
   "display_name": "Python 3 (ipykernel)",
   "language": "python",
   "name": "python3"
  },
  "language_info": {
   "codemirror_mode": {
    "name": "ipython",
    "version": 3
   },
   "file_extension": ".py",
   "mimetype": "text/x-python",
   "name": "python",
   "nbconvert_exporter": "python",
   "pygments_lexer": "ipython3",
   "version": "3.13.1"
  }
 },
 "nbformat": 4,
 "nbformat_minor": 5
}
